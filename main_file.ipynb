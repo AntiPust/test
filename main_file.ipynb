import pandas as pd
import numpy as np

df = pd.read_csv('D:/Загрузки/orders.csv', encoding = 'cp1251', sep = ';')
print(df)